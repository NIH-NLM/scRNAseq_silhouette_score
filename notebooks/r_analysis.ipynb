
---

## **3️⃣ New R Notebook: `notebooks/r_analysis.ipynb`**
We will add an **R-based notebook** for users who prefer working with **Seurat** and R’s data visualization.

### **Example Code for `r_analysis.ipynb`**
```r
# Load necessary libraries
library(ggplot2)
library(dplyr)
library(Seurat)

# Load the CSV results
silhouette_data <- read.csv("../results/output.csv")

# Summary statistics
summary(silhouette_data$silhouette_score)

# Histogram of silhouette scores
ggplot(silhouette_data, aes(x=silhouette_score)) +
  geom_histogram(bins=30, fill="blue", alpha=0.5) +
  ggtitle("Distribution of Silhouette Scores") +
  xlab("Silhouette Score") +
  ylab("Frequency") +
  theme_minimal()

# Scatter plot by collection ID
ggplot(silhouette_data, aes(x=dataset_id, y=silhouette_score, color=collection_id)) +
  geom_point() +
  ggtitle("Silhouette Scores Across Datasets") +
  xlab("Dataset ID") +
  ylab("Silhouette Score") +
  theme_minimal()
